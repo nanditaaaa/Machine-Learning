{
  "cells": [
    {
      "cell_type": "code",
      "source": [
        "import numpy as np\n",
        "import matplotlib.pyplot as plt\n",
        "import pandas as pd"
      ],
      "outputs": [],
      "execution_count": 1,
      "metadata": {
        "id": "wLzm4wQCkPsw"
      }
    },
    {
      "cell_type": "code",
      "source": [
        "url = \"https://archive.ics.uci.edu/ml/machine-learning-databases/iris/iris.data\"\n",
        "colnames = ['sepal-length', 'sepal-width', 'petal-length', 'petal-width', 'Class']\n",
        "irisdata = pd.read_csv(url, names=colnames)"
      ],
      "outputs": [],
      "execution_count": 3,
      "metadata": {
        "id": "8Hravv52kU_6"
      }
    },
    {
      "cell_type": "code",
      "source": [
        "X = irisdata.drop('Class', axis=1)\n",
        "y = irisdata['Class']"
      ],
      "outputs": [],
      "execution_count": 4,
      "metadata": {
        "id": "YLAYWSJqkhzE"
      }
    },
    {
      "cell_type": "code",
      "source": [
        "from sklearn.model_selection import train_test_split\n",
        "X_train, X_test, y_train, y_test = train_test_split(X, y, test_size = 0.20)"
      ],
      "outputs": [],
      "execution_count": 5,
      "metadata": {
        "id": "j2pi7DGXkwi7"
      }
    },
    {
      "cell_type": "code",
      "source": [
        "from sklearn.svm import SVC\n",
        "svclassifier = SVC(kernel='poly', degree=8)\n",
        "svclassifier.fit(X_train, y_train)"
      ],
      "outputs": [
        {
          "output_type": "execute_result",
          "execution_count": 6,
          "data": {
            "text/plain": "SVC(degree=8, kernel='poly')"
          },
          "metadata": {}
        }
      ],
      "execution_count": 6,
      "metadata": {
        "colab": {
          "base_uri": "https://localhost:8080/"
        },
        "id": "nQEawTQhk0CV",
        "outputId": "e988514a-6108-4cd4-b099-fa099c2bb7e4"
      }
    },
    {
      "cell_type": "code",
      "source": [
        "y_pred = svclassifier.predict(X_test)"
      ],
      "outputs": [],
      "execution_count": 7,
      "metadata": {
        "id": "eDbhaIYhk4Vd"
      }
    },
    {
      "cell_type": "code",
      "source": [
        "from sklearn.metrics import classification_report, confusion_matrix\n",
        "print(confusion_matrix(y_test, y_pred))\n",
        "print(classification_report(y_test, y_pred))"
      ],
      "outputs": [
        {
          "output_type": "stream",
          "name": "stdout",
          "text": "[[10  0  0]\n [ 0  7  0]\n [ 0  2 11]]\n                 precision    recall  f1-score   support\n\n    Iris-setosa       1.00      1.00      1.00        10\nIris-versicolor       0.78      1.00      0.88         7\n Iris-virginica       1.00      0.85      0.92        13\n\n       accuracy                           0.93        30\n      macro avg       0.93      0.95      0.93        30\n   weighted avg       0.95      0.93      0.93        30\n\n"
        }
      ],
      "execution_count": 8,
      "metadata": {
        "colab": {
          "base_uri": "https://localhost:8080/"
        },
        "id": "23DmawF1k7qt",
        "outputId": "463e167e-6284-4a8b-938e-9391d9ec5bd6"
      }
    },
    {
      "cell_type": "code",
      "source": [
        "from sklearn.svm import SVC\n",
        "svclassifier = SVC(kernel='rbf')\n",
        "svclassifier.fit(X_train, y_train)"
      ],
      "outputs": [
        {
          "output_type": "execute_result",
          "execution_count": 9,
          "data": {
            "text/plain": "SVC()"
          },
          "metadata": {}
        }
      ],
      "execution_count": 9,
      "metadata": {
        "colab": {
          "base_uri": "https://localhost:8080/"
        },
        "id": "mes4N7dHlBHz",
        "outputId": "5361f482-0ae5-4be8-c675-4313cc50fcdc"
      }
    },
    {
      "cell_type": "code",
      "source": [
        "y_pred = svclassifier.predict(X_test)"
      ],
      "outputs": [],
      "execution_count": 10,
      "metadata": {
        "id": "AyQ4wopulFTP"
      }
    },
    {
      "cell_type": "code",
      "source": [
        "from sklearn.metrics import classification_report, confusion_matrix\n",
        "print(confusion_matrix(y_test, y_pred))\n",
        "print(classification_report(y_test, y_pred))"
      ],
      "outputs": [
        {
          "output_type": "stream",
          "name": "stdout",
          "text": "[[10  0  0]\n [ 0  7  0]\n [ 0  0 13]]\n                 precision    recall  f1-score   support\n\n    Iris-setosa       1.00      1.00      1.00        10\nIris-versicolor       1.00      1.00      1.00         7\n Iris-virginica       1.00      1.00      1.00        13\n\n       accuracy                           1.00        30\n      macro avg       1.00      1.00      1.00        30\n   weighted avg       1.00      1.00      1.00        30\n\n"
        }
      ],
      "execution_count": 11,
      "metadata": {
        "colab": {
          "base_uri": "https://localhost:8080/"
        },
        "id": "pq6WKUeolIex",
        "outputId": "0f1e3c0d-c022-4c82-d464-a8290d58763a"
      }
    },
    {
      "cell_type": "code",
      "source": [
        "from sklearn.svm import SVC\n",
        "svclassifier = SVC(kernel='sigmoid')\n",
        "svclassifier.fit(X_train, y_train)"
      ],
      "outputs": [
        {
          "output_type": "execute_result",
          "execution_count": 12,
          "data": {
            "text/plain": "SVC(kernel='sigmoid')"
          },
          "metadata": {}
        }
      ],
      "execution_count": 12,
      "metadata": {
        "colab": {
          "base_uri": "https://localhost:8080/"
        },
        "id": "cSGkiOTJlLuL",
        "outputId": "fbe718b9-0e6d-4c80-954f-db608af1e73f"
      }
    },
    {
      "cell_type": "code",
      "source": [
        "y_pred = svclassifier.predict(X_test)"
      ],
      "outputs": [],
      "execution_count": null,
      "metadata": {
        "id": "Mxj9jeovlPCW"
      }
    },
    {
      "cell_type": "code",
      "source": [
        "y_pred = svclassifier.predict(X_test)"
      ],
      "outputs": [],
      "execution_count": 13,
      "metadata": {
        "id": "zczFOaWslS4E"
      }
    },
    {
      "cell_type": "code",
      "source": [
        "from sklearn.metrics import classification_report, confusion_matrix\n",
        "print(confusion_matrix(y_test, y_pred))\n",
        "print(classification_report(y_test, y_pred))"
      ],
      "outputs": [
        {
          "output_type": "stream",
          "name": "stdout",
          "text": "[[ 0 10  0]\n [ 0  7  0]\n [ 0 13  0]]\n                 precision    recall  f1-score   support\n\n    Iris-setosa       0.00      0.00      0.00        10\nIris-versicolor       0.23      1.00      0.38         7\n Iris-virginica       0.00      0.00      0.00        13\n\n       accuracy                           0.23        30\n      macro avg       0.08      0.33      0.13        30\n   weighted avg       0.05      0.23      0.09        30\n\n"
        },
        {
          "output_type": "stream",
          "name": "stderr",
          "text": "/usr/local/lib/python3.7/dist-packages/sklearn/metrics/_classification.py:1318: UndefinedMetricWarning: Precision and F-score are ill-defined and being set to 0.0 in labels with no predicted samples. Use `zero_division` parameter to control this behavior.\n  _warn_prf(average, modifier, msg_start, len(result))\n/usr/local/lib/python3.7/dist-packages/sklearn/metrics/_classification.py:1318: UndefinedMetricWarning: Precision and F-score are ill-defined and being set to 0.0 in labels with no predicted samples. Use `zero_division` parameter to control this behavior.\n  _warn_prf(average, modifier, msg_start, len(result))\n/usr/local/lib/python3.7/dist-packages/sklearn/metrics/_classification.py:1318: UndefinedMetricWarning: Precision and F-score are ill-defined and being set to 0.0 in labels with no predicted samples. Use `zero_division` parameter to control this behavior.\n  _warn_prf(average, modifier, msg_start, len(result))\n"
        }
      ],
      "execution_count": 14,
      "metadata": {
        "colab": {
          "base_uri": "https://localhost:8080/"
        },
        "id": "H7a3mxAIlXBX",
        "outputId": "2366e5f6-cb8d-4530-9bae-54d8d08977c4"
      }
    },
    {
      "cell_type": "code",
      "source": [],
      "outputs": [],
      "execution_count": null,
      "metadata": {
        "id": "G-jany6glZeu"
      }
    }
  ],
  "metadata": {
    "colab": {
      "name": "kernel_SVM_20BCE7423.ipynb",
      "provenance": []
    },
    "kernelspec": {
      "name": "python",
      "language": "python",
      "display_name": "Pyolite (preview)"
    },
    "language_info": {
      "codemirror_mode": {
        "name": "python",
        "version": 3
      },
      "file_extension": ".py",
      "mimetype": "text/x-python",
      "name": "python",
      "nbconvert_exporter": "python",
      "pygments_lexer": "ipython3",
      "version": "3.8"
    },
    "kernel_info": {
      "name": "python"
    },
    "nteract": {
      "version": "nteract-front-end@1.0.0"
    }
  },
  "nbformat": 4,
  "nbformat_minor": 0
}