{
  "cells": [
    {
      "cell_type": "code",
      "source": [
        "import matplotlib.pyplot as plt\n",
        "import numpy as np\n",
        "from sklearn.linear_model import LogisticRegression\n",
        "from sklearn.metrics import classification_report, confusion_matrix"
      ],
      "outputs": [],
      "execution_count": 1,
      "metadata": {
        "id": "f4AgXfYoyQ8l"
      }
    },
    {
      "cell_type": "code",
      "source": [
        "x = np.arange(10).reshape(-1, 1)\n",
        "y = np.array([0, 0, 0, 0, 1, 1, 1, 1, 1, 1])"
      ],
      "outputs": [],
      "execution_count": 2,
      "metadata": {
        "id": "uinZbCBryefT"
      }
    },
    {
      "cell_type": "code",
      "source": [
        "model = LogisticRegression(solver='liblinear', random_state=0)"
      ],
      "outputs": [],
      "execution_count": 3,
      "metadata": {
        "id": "D9SyCi-1zO8b"
      }
    },
    {
      "cell_type": "code",
      "source": [
        "model.fit(x, y)"
      ],
      "outputs": [
        {
          "output_type": "execute_result",
          "execution_count": 4,
          "data": {
            "text/plain": "LogisticRegression(random_state=0, solver='liblinear')"
          },
          "metadata": {}
        }
      ],
      "execution_count": 4,
      "metadata": {
        "colab": {
          "base_uri": "https://localhost:8080/"
        },
        "id": "2kFWPQArzRC5",
        "outputId": "1eae0141-927f-41b1-92d7-c66dc5d0fb4f"
      }
    },
    {
      "cell_type": "code",
      "source": [
        "LogisticRegression(C=1.0, class_weight=None, dual=False, fit_intercept=True,\n",
        "                   intercept_scaling=1, l1_ratio=None, max_iter=100,\n",
        "                   multi_class='warn', n_jobs=None, penalty='l2',\n",
        "                   random_state=0, solver='liblinear', tol=0.0001, verbose=0,\n",
        "                   warm_start=False)"
      ],
      "outputs": [
        {
          "output_type": "execute_result",
          "execution_count": 7,
          "data": {
            "text/plain": "LogisticRegression(multi_class='warn', random_state=0, solver='liblinear')"
          },
          "metadata": {}
        }
      ],
      "execution_count": 7,
      "metadata": {
        "colab": {
          "base_uri": "https://localhost:8080/"
        },
        "id": "hQ87H7MazzpP",
        "outputId": "c4f35f67-ccd3-4bbd-f808-1a8bb5a6bbef"
      }
    },
    {
      "cell_type": "code",
      "source": [
        "model = LogisticRegression(solver='liblinear', random_state=0).fit(x, y)"
      ],
      "outputs": [],
      "execution_count": 8,
      "metadata": {
        "id": "7OG5OWvxz1YK"
      }
    },
    {
      "cell_type": "code",
      "source": [
        " model.classes_"
      ],
      "outputs": [
        {
          "output_type": "execute_result",
          "execution_count": 11,
          "data": {
            "text/plain": "array([0, 1])"
          },
          "metadata": {}
        }
      ],
      "execution_count": 11,
      "metadata": {
        "colab": {
          "base_uri": "https://localhost:8080/"
        },
        "id": "qkZqORYw0oRV",
        "outputId": "1d08bf7c-f461-47b1-a127-0fc3fa7dbdbd"
      }
    },
    {
      "cell_type": "code",
      "source": [
        " model.intercept_"
      ],
      "outputs": [
        {
          "output_type": "execute_result",
          "execution_count": 12,
          "data": {
            "text/plain": "array([-1.04608067])"
          },
          "metadata": {}
        }
      ],
      "execution_count": 12,
      "metadata": {
        "colab": {
          "base_uri": "https://localhost:8080/"
        },
        "id": "4w3yixqK0qo0",
        "outputId": "a78f5650-afc1-4834-ee10-28698ee520f9"
      }
    },
    {
      "cell_type": "code",
      "source": [
        "model.coef_"
      ],
      "outputs": [
        {
          "output_type": "execute_result",
          "execution_count": 13,
          "data": {
            "text/plain": "array([[0.51491375]])"
          },
          "metadata": {}
        }
      ],
      "execution_count": 13,
      "metadata": {
        "colab": {
          "base_uri": "https://localhost:8080/"
        },
        "id": "REkCm4sW0vOj",
        "outputId": "3a74cab5-3c7e-402e-a8f6-1a1c4ca5fb1f"
      }
    },
    {
      "cell_type": "code",
      "source": [
        "model.predict_proba(x)"
      ],
      "outputs": [
        {
          "output_type": "execute_result",
          "execution_count": 14,
          "data": {
            "text/plain": "array([[0.74002157, 0.25997843],\n       [0.62975524, 0.37024476],\n       [0.5040632 , 0.4959368 ],\n       [0.37785549, 0.62214451],\n       [0.26628093, 0.73371907],\n       [0.17821501, 0.82178499],\n       [0.11472079, 0.88527921],\n       [0.07186982, 0.92813018],\n       [0.04422513, 0.95577487],\n       [0.02690569, 0.97309431]])"
          },
          "metadata": {}
        }
      ],
      "execution_count": 14,
      "metadata": {
        "colab": {
          "base_uri": "https://localhost:8080/"
        },
        "id": "ovNVIG-Y03Yq",
        "outputId": "c6b44b13-87d7-4c85-9334-b8087a75b9f1"
      }
    },
    {
      "cell_type": "code",
      "source": [
        "model.predict(x)"
      ],
      "outputs": [
        {
          "output_type": "execute_result",
          "execution_count": 15,
          "data": {
            "text/plain": "array([0, 0, 0, 1, 1, 1, 1, 1, 1, 1])"
          },
          "metadata": {}
        }
      ],
      "execution_count": 15,
      "metadata": {
        "colab": {
          "base_uri": "https://localhost:8080/"
        },
        "id": "KH02Bv6608hg",
        "outputId": "5b24cbbd-ed2f-47d5-d90a-6161b75ff059"
      }
    },
    {
      "cell_type": "code",
      "source": [
        "model.score(x, y)"
      ],
      "outputs": [
        {
          "output_type": "execute_result",
          "execution_count": 16,
          "data": {
            "text/plain": "0.9"
          },
          "metadata": {}
        }
      ],
      "execution_count": 16,
      "metadata": {
        "colab": {
          "base_uri": "https://localhost:8080/"
        },
        "id": "wUoNX7NJ1Cue",
        "outputId": "244f772d-556b-41b8-8daa-d187e0f12c85"
      }
    },
    {
      "cell_type": "code",
      "source": [
        "confusion_matrix(y, model.predict(x))"
      ],
      "outputs": [
        {
          "output_type": "execute_result",
          "execution_count": 17,
          "data": {
            "text/plain": "array([[3, 1],\n       [0, 6]])"
          },
          "metadata": {}
        }
      ],
      "execution_count": 17,
      "metadata": {
        "colab": {
          "base_uri": "https://localhost:8080/"
        },
        "id": "KEvpHLWB1E8B",
        "outputId": "34ac3f45-1151-4b31-8e68-347af423036f"
      }
    },
    {
      "cell_type": "code",
      "source": [
        "cm = confusion_matrix(y, model.predict(x))\n",
        "\n",
        "fig, ax = plt.subplots(figsize=(8, 8))\n",
        "ax.imshow(cm)\n",
        "ax.grid(False)\n",
        "ax.xaxis.set(ticks=(0, 1), ticklabels=('Predicted 0s', 'Predicted 1s'))\n",
        "ax.yaxis.set(ticks=(0, 1), ticklabels=('Actual 0s', 'Actual 1s'))\n",
        "ax.set_ylim(1.5, -0.5)\n",
        "for i in range(2):\n",
        "    for j in range(2):\n",
        "        ax.text(j, i, cm[i, j], ha='center', va='center', color='red')\n",
        "plt.show()"
      ],
      "outputs": [
        {
          "output_type": "display_data",
          "data": {
            "text/plain": "<Figure size 576x576 with 1 Axes>",
            "image/png": "[encoded data removed]"
          },
          "metadata": {
            "needs_background": "light"
          }
        }
      ],
      "execution_count": 18,
      "metadata": {
        "colab": {
          "base_uri": "https://localhost:8080/",
          "height": 483
        },
        "id": "_G12m0Fh1TZe",
        "outputId": "8582f620-e70c-4a1e-f35e-7b37720a4f76"
      }
    },
    {
      "cell_type": "code",
      "source": [
        "print(classification_report(y, model.predict(x)))"
      ],
      "outputs": [
        {
          "output_type": "stream",
          "name": "stdout",
          "text": "              precision    recall  f1-score   support\n\n           0       1.00      0.75      0.86         4\n           1       0.86      1.00      0.92         6\n\n    accuracy                           0.90        10\n   macro avg       0.93      0.88      0.89        10\nweighted avg       0.91      0.90      0.90        10\n\n"
        }
      ],
      "execution_count": 19,
      "metadata": {
        "colab": {
          "base_uri": "https://localhost:8080/"
        },
        "id": "JVLkfSss1e-X",
        "outputId": "26b5c4c4-33f4-47f1-a354-04281fca5c29"
      }
    },
    {
      "cell_type": "code",
      "source": [
        "model = LogisticRegression(solver='liblinear', C=10.0, random_state=0)\n",
        "model.fit(x, y)"
      ],
      "outputs": [
        {
          "output_type": "execute_result",
          "execution_count": 20,
          "data": {
            "text/plain": "LogisticRegression(C=10.0, random_state=0, solver='liblinear')"
          },
          "metadata": {}
        }
      ],
      "execution_count": 20,
      "metadata": {
        "colab": {
          "base_uri": "https://localhost:8080/"
        },
        "id": "ObPjwl6Z1iK4",
        "outputId": "8a825f1b-1c25-4818-a60e-1cab2402b16f"
      }
    },
    {
      "cell_type": "code",
      "source": [
        "model.intercept_"
      ],
      "outputs": [
        {
          "output_type": "execute_result",
          "execution_count": 24,
          "data": {
            "text/plain": "array([-3.51335372])"
          },
          "metadata": {}
        }
      ],
      "execution_count": 24,
      "metadata": {
        "colab": {
          "base_uri": "https://localhost:8080/"
        },
        "id": "Drd6yJ8C2Awm",
        "outputId": "985023b8-ea67-48fd-99d8-0fdfd8eb6336"
      }
    },
    {
      "cell_type": "code",
      "source": [
        "model.coef_"
      ],
      "outputs": [
        {
          "output_type": "execute_result",
          "execution_count": 25,
          "data": {
            "text/plain": "array([[1.12066084]])"
          },
          "metadata": {}
        }
      ],
      "execution_count": 25,
      "metadata": {
        "colab": {
          "base_uri": "https://localhost:8080/"
        },
        "id": "YdU_gea82KZR",
        "outputId": "ac5b7c9c-4fbc-442b-8147-4732c42d86d1"
      }
    },
    {
      "cell_type": "code",
      "source": [
        "model.predict_proba(x)"
      ],
      "outputs": [
        {
          "output_type": "execute_result",
          "execution_count": 23,
          "data": {
            "text/plain": "array([[0.97106534, 0.02893466],\n       [0.9162684 , 0.0837316 ],\n       [0.7810904 , 0.2189096 ],\n       [0.53777071, 0.46222929],\n       [0.27502212, 0.72497788],\n       [0.11007743, 0.88992257],\n       [0.03876835, 0.96123165],\n       [0.01298011, 0.98701989],\n       [0.0042697 , 0.9957303 ],\n       [0.00139621, 0.99860379]])"
          },
          "metadata": {}
        }
      ],
      "execution_count": 23,
      "metadata": {
        "colab": {
          "base_uri": "https://localhost:8080/"
        },
        "id": "75z598eB1njg",
        "outputId": "e4dadba8-69fc-46a7-c1d3-de6425bf9925"
      }
    },
    {
      "cell_type": "code",
      "source": [
        "model.predict(x)"
      ],
      "outputs": [
        {
          "output_type": "execute_result",
          "execution_count": 22,
          "data": {
            "text/plain": "array([0, 0, 0, 0, 1, 1, 1, 1, 1, 1])"
          },
          "metadata": {}
        }
      ],
      "execution_count": 22,
      "metadata": {
        "colab": {
          "base_uri": "https://localhost:8080/"
        },
        "id": "FFg2oDcr18_4",
        "outputId": "7fe1bf66-cb7a-4b6c-fbf6-16f46c7ef989"
      }
    },
    {
      "cell_type": "code",
      "source": [
        "model.score(x, y)"
      ],
      "outputs": [
        {
          "output_type": "execute_result",
          "execution_count": 26,
          "data": {
            "text/plain": "1.0"
          },
          "metadata": {}
        }
      ],
      "execution_count": 26,
      "metadata": {
        "colab": {
          "base_uri": "https://localhost:8080/"
        },
        "id": "cHPNCxJG2P65",
        "outputId": "573038ba-13e0-46ed-ed8a-8bb73fc538b0"
      }
    },
    {
      "cell_type": "code",
      "source": [
        " confusion_matrix(y, model.predict(x))"
      ],
      "outputs": [
        {
          "output_type": "execute_result",
          "execution_count": 27,
          "data": {
            "text/plain": "array([[4, 0],\n       [0, 6]])"
          },
          "metadata": {}
        }
      ],
      "execution_count": 27,
      "metadata": {
        "colab": {
          "base_uri": "https://localhost:8080/"
        },
        "id": "iMaahKuG2WOY",
        "outputId": "c9777936-8f0a-4cc7-da7e-48bd4b3f82ea"
      }
    },
    {
      "cell_type": "code",
      "source": [
        "print(classification_report(y, model.predict(x)))"
      ],
      "outputs": [
        {
          "output_type": "stream",
          "name": "stdout",
          "text": "              precision    recall  f1-score   support\n\n           0       1.00      1.00      1.00         4\n           1       1.00      1.00      1.00         6\n\n    accuracy                           1.00        10\n   macro avg       1.00      1.00      1.00        10\nweighted avg       1.00      1.00      1.00        10\n\n"
        }
      ],
      "execution_count": 28,
      "metadata": {
        "colab": {
          "base_uri": "https://localhost:8080/"
        },
        "id": "noZudNI12gtZ",
        "outputId": "8345d422-ce46-44b7-914e-9baa47adb761"
      }
    },
    {
      "cell_type": "code",
      "source": [],
      "outputs": [],
      "execution_count": null,
      "metadata": {
        "id": "EA-tFs0X2jK6"
      }
    }
  ],
  "metadata": {
    "colab": {
      "name": "Untitled3.ipynb",
      "provenance": []
    },
    "kernelspec": {
      "name": "python",
      "language": "python",
      "display_name": "Pyolite (preview)"
    },
    "language_info": {
      "codemirror_mode": {
        "name": "python",
        "version": 3
      },
      "file_extension": ".py",
      "mimetype": "text/x-python",
      "name": "python",
      "nbconvert_exporter": "python",
      "pygments_lexer": "ipython3",
      "version": "3.8"
    },
    "kernel_info": {
      "name": "python"
    },
    "nteract": {
      "version": "nteract-front-end@1.0.0"
    }
  },
  "nbformat": 4,
  "nbformat_minor": 0
}